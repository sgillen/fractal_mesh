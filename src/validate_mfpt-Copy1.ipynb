{
 "cells": [
  {
   "cell_type": "code",
   "execution_count": 1,
   "metadata": {},
   "outputs": [],
   "source": [
    "import gym\n",
    "import torch\n",
    "import gym\n",
    "import random\n",
    "from scipy.signal import find_peaks\n",
    "import matplotlib.pyplot as plt\n",
    "\n",
    "from common import *\n",
    "from multiprocessing import Pool\n",
    "from itertools import repeat\n",
    "from scipy.sparse import lil_matrix\n",
    "from scipy.sparse.linalg import eigs\n",
    "\n",
    "env_name = \"Hopper-v2\"\n",
    "post_names = ['madodiv', 'mdim_div']\n",
    "\n",
    "\n",
    "from collections import namedtuple\n",
    "\n",
    "class MeshBox:\n",
    "    def __init__(self, state, iden, freq, trans_list):\n",
    "        self.state = state\n",
    "        self.id = iden\n",
    "        self.freq = freq\n",
    "        self.trans_list = trans_list\n",
    "\n",
    "def my_reset(env, point):\n",
    "    env.reset()\n",
    "    qpos = np.concatenate((np.array([0.0]), point[:5]))\n",
    "    qvel = point[5:]\n",
    "    env.unwrapped.set_state(qpos, qvel)\n",
    "    return env.unwrapped._get_obs()\n",
    "\n",
    "def fail_cond(ob):\n",
    "    #tilted = np.abs(ob[:,1]) > .2 \n",
    "    short = ob[:,0] < .7\n",
    "    #return np.logical_or(tilted, short)\n",
    "    return short\n",
    "\n",
    "\n",
    "def do_monte_carlo_rollout(arg):\n",
    "    env, policy = arg\n",
    "    torch.autograd.set_grad_enabled(False)\n",
    "    act_list = []\n",
    "    obs_list = []\n",
    "    rew_list = []\n",
    "    x_list = []\n",
    "\n",
    "    dtype = torch.float32\n",
    "    init_obs = env.reset()\n",
    "    done = False\n",
    "    obs_size = env.observation_space.shape[0]\n",
    "    act_size = env.action_space.shape[0]\n",
    "\n",
    "    step_count = 0\n",
    "    \n",
    "    while not done:        \n",
    "        angs = np.random.uniform(0,2*np.pi,1)\n",
    "        mags = np.random.uniform(5,15,1) \n",
    "        force_x = np.cos(angs)*mags\n",
    "        force_y = np.sin(angs)*mags\n",
    "\n",
    "        force = (force_x, force_y)\n",
    "        obs, acts, rews, _ = do_push_rollout_from_state(env, policy, init_obs, force)\n",
    "        peak_idx,_ = find_peaks(obs[:,0], distance=20)\n",
    "        \n",
    "        if len(peak_idx) != 1 or fail_cond(obs[:peak_idx[0]]).any():\n",
    "            done = True\n",
    "        else:\n",
    "            #print(f\"step was good, count: {step_count}\")\n",
    "            step_count +=1\n",
    "            init_obs = obs[peak_idx[0],:]\n",
    "\n",
    "    torch.autograd.set_grad_enabled(True)\n",
    "    return step_count\n",
    "\n",
    "\n",
    "def do_push_rollout_from_state(env, policy, init_state, force, num_steps=100, force_steps = 1, render=False):\n",
    "    torch.autograd.set_grad_enabled(False)\n",
    "    act_list = []\n",
    "    obs_list = []\n",
    "    rew_list = []\n",
    "    x_list = []\n",
    "\n",
    "    dtype = torch.float32\n",
    "    obs = my_reset(env, init_state)\n",
    "    done = False\n",
    "    obs_size = env.observation_space.shape[0]\n",
    "    act_size = env.action_space.shape[0]\n",
    "\n",
    "    for cur_step in range(num_steps):\n",
    "        if render:\n",
    "            env.render()\n",
    "            time.sleep(.01)\n",
    "        \n",
    "        obs = torch.as_tensor(obs, dtype=dtype).detach()\n",
    "        #obs += torch.randn(obs_size)*obs_std\n",
    "        obs_list.append(obs.clone())\n",
    "        \n",
    "        x_list.append(env.unwrapped.sim.data.qpos[0])\n",
    "        \n",
    "        if cur_step < force_steps:\n",
    "            env.unwrapped.sim.data.xfrc_applied[1,:] = np.array([force[0],0,force[1],0,0,0])\n",
    "        else:\n",
    "            env.unwrapped.sim.data.xfrc_applied[1,:] = np.zeros(6)\n",
    "\n",
    "        \n",
    "        act = policy(obs)\n",
    "        #act += torch.randn(act_size)*act_std\n",
    "        obs, rew, done, _ = env.step(act.numpy())\n",
    "        \n",
    "        act_list.append(torch.as_tensor(act.clone()))\n",
    "        rew_list.append(rew)\n",
    "        \n",
    "    ep_length = len(rew_list)\n",
    "    ep_obs = torch.stack(obs_list)\n",
    "    ep_act = torch.stack(act_list)\n",
    "    ep_rew = torch.tensor(rew_list, dtype=dtype)\n",
    "    ep_rew = ep_rew.reshape(-1, 1)\n",
    "\n",
    "    torch.autograd.set_grad_enabled(True)\n",
    "    return ep_obs, ep_act, ep_rew, x_list\n",
    "\n",
    "\n",
    "def do_explore_rollout(args):\n",
    "    force, init_state, trial_num = args\n",
    "    env.seed(trial_num)\n",
    "    np.random.seed(trial_num)\n",
    "    torch.manual_seed(trial_num)\n",
    "    \n",
    "    env.seed(trial_num)\n",
    "    obs, acts, rews, x_list = do_push_rollout_from_state(env, policy, init_state, force)    \n",
    "    \n",
    "    return np.asarray(obs)"
   ]
  },
  {
   "cell_type": "code",
   "execution_count": 2,
   "metadata": {},
   "outputs": [
    {
     "name": "stdout",
     "output_type": "stream",
     "text": [
      "running build_ext\n"
     ]
    }
   ],
   "source": [
    "env = gym.make(env_name)\n",
    "data = torch.load(f\"./data_noise1/{env_name}.xr\")\n",
    "#data = torch.load(f\"./data17/{env_name}.xr\")\n",
    "\n",
    "init_policy_dict = data.policy_dict\n",
    "\n",
    "data = torch.load(f\"./data_noise1_mdim/{env_name}.xr\")\n",
    "#data = torch.load(f\"./data_mcshdim4/{env_name}.xr\")\n",
    "policy_dict = data.policy_dict\n",
    "policy_dict['identity'] = init_policy_dict['identity']\n",
    "policy_dict['madodiv'] = init_policy_dict['madodiv']"
   ]
  },
  {
   "cell_type": "code",
   "execution_count": 3,
   "metadata": {},
   "outputs": [],
   "source": [
    "def construct_reachable_mesh(env, policy, forces, delta, n_workers=12, verbose=True):\n",
    "    \n",
    "    mesh = BoxMesh(delta); mdim_l = []\n",
    "\n",
    "\n",
    "    fail_state = np.ones_like(env.reset())*100\n",
    "    fail_id = 0\n",
    "    mesh[fail_state] = MeshBox(fail_state, 0, 1, [])\n",
    "\n",
    "    obs, acts, rews, _ = do_long_rollout(env, policy, ep_length=1000)\n",
    "    peak_idx,_ = find_peaks(obs[:,0], distance=20)\n",
    "\n",
    "\n",
    "    for o in obs[peak_idx[2:],:]:\n",
    "        key = (o - policy.state_means)/policy.state_std\n",
    "\n",
    "        if key in mesh:\n",
    "            mesh[key].freq +=1\n",
    "        else:\n",
    "            mesh[key] =  MeshBox(o, len(mesh), 1, [])\n",
    "            \n",
    "    start = time.time()\n",
    "    keys = list(mesh.keys())[1:]\n",
    "    i = 0 \n",
    "\n",
    "    with Pool(12, maxtasksperchild=1000) as pool:\n",
    "        for init_key in keys:    \n",
    "            i+=1 \n",
    "\n",
    "            init_state = mesh[init_key].state\n",
    "            state_iter = repeat(init_state, n_forces)\n",
    "            seeds_iter = range(i*n_forces, i*n_forces+n_forces)\n",
    "\n",
    "            for j, res in enumerate(pool.imap(do_explore_rollout, zip(force_iter, state_iter, seeds_iter))):\n",
    "                obs = res\n",
    "\n",
    "                peak_idx,_ = find_peaks(obs[:,0], distance=20)\n",
    "\n",
    "                if len(peak_idx) != 1 or fail_cond(obs[:peak_idx[0]]).any():\n",
    "                    new_id = fail_id\n",
    "                    mesh[fail_state].freq +=1\n",
    "                else:\n",
    "                    new_key = ((obs[peak_idx,:] - np.array(policy.state_means))/np.array(policy.state_std)).squeeze()\n",
    "                    if new_key in mesh:\n",
    "                        new_id = mesh[new_key].id\n",
    "                        mesh[new_key].freq += 1\n",
    "                    else:\n",
    "                        mesh[new_key] = MeshBox(obs[peak_idx, :].squeeze(), len(mesh), 1, [])\n",
    "                        new_id = len(mesh)-1\n",
    "                        keys.append(mesh.__keytransform__(new_key))\n",
    "\n",
    "                mesh[init_key].trans_list.append(new_id)\n",
    "\n",
    "\n",
    "            if i % 1000 == 0 and verbose:\n",
    "                print(f\"i; {i}, mdim: {len(keys)}, ratio: {i/len(keys)}\")\n",
    "                #print(f\"i; {i}, iden: {len(iden_mesh)}, mdim: {len(mdim_mesh)}, ratio: {len(mdim_mesh)/len(iden_mesh)}\")\n",
    "\n",
    "    return mesh"
   ]
  },
  {
   "cell_type": "code",
   "execution_count": 4,
   "metadata": {},
   "outputs": [],
   "source": [
    "n_forces = 101\n",
    "angs = np.random.uniform(0,2*np.pi,n_forces)\n",
    "mags = np.random.uniform(5,15,n_forces) \n",
    "forces_x = np.cos(angs)*mags\n",
    "forces_y = np.sin(angs)*mags\n",
    "force_iter = [np.array([fx,fy]) for fy,fx in zip(forces_x, forces_y)]"
   ]
  },
  {
   "cell_type": "code",
   "execution_count": 5,
   "metadata": {},
   "outputs": [
    {
     "name": "stdout",
     "output_type": "stream",
     "text": [
      "i; 1000, mdim: 16160, ratio: 0.06188118811881188\n",
      "i; 2000, mdim: 20468, ratio: 0.09771350400625367\n",
      "i; 3000, mdim: 22417, ratio: 0.1338270062898693\n",
      "i; 4000, mdim: 24700, ratio: 0.16194331983805668\n",
      "i; 5000, mdim: 25771, ratio: 0.19401653020837376\n",
      "i; 6000, mdim: 27343, ratio: 0.21943459020590278\n",
      "i; 7000, mdim: 29150, ratio: 0.24013722126929674\n",
      "i; 8000, mdim: 30370, ratio: 0.2634178465591044\n",
      "i; 9000, mdim: 34612, ratio: 0.2600254247081937\n",
      "i; 10000, mdim: 42063, ratio: 0.23773863015001306\n",
      "i; 11000, mdim: 44974, ratio: 0.24458576066171567\n",
      "i; 12000, mdim: 46284, ratio: 0.25926886180969666\n",
      "i; 13000, mdim: 47265, ratio: 0.27504495927218875\n",
      "i; 14000, mdim: 48419, ratio: 0.28914269191846176\n",
      "i; 15000, mdim: 48987, ratio: 0.3062036866923878\n",
      "i; 16000, mdim: 49718, ratio: 0.3218150368075948\n",
      "i; 17000, mdim: 50000, ratio: 0.34\n",
      "i; 18000, mdim: 50541, ratio: 0.35614649492491246\n",
      "i; 19000, mdim: 51190, ratio: 0.3711662434069154\n",
      "i; 20000, mdim: 51536, ratio: 0.388078236572493\n",
      "i; 21000, mdim: 51756, ratio: 0.405750057964294\n",
      "i; 22000, mdim: 51994, ratio: 0.4231257452783013\n",
      "i; 23000, mdim: 52160, ratio: 0.4409509202453988\n",
      "i; 24000, mdim: 52369, ratio: 0.45828639080371975\n",
      "i; 25000, mdim: 52643, ratio: 0.47489694736242233\n",
      "i; 26000, mdim: 53002, ratio: 0.49054752650843364\n",
      "i; 27000, mdim: 53529, ratio: 0.5043994843916382\n",
      "i; 28000, mdim: 54277, ratio: 0.5158722847615012\n",
      "i; 29000, mdim: 55967, ratio: 0.5181624886093591\n",
      "i; 30000, mdim: 56875, ratio: 0.5274725274725275\n",
      "i; 31000, mdim: 59404, ratio: 0.5218503804457613\n",
      "i; 32000, mdim: 62188, ratio: 0.5145687270856114\n",
      "i; 33000, mdim: 63910, ratio: 0.5163511187607573\n",
      "i; 34000, mdim: 67063, ratio: 0.5069859684177564\n",
      "i; 35000, mdim: 68893, ratio: 0.508034197959154\n",
      "i; 36000, mdim: 70259, ratio: 0.5123898717602016\n",
      "i; 37000, mdim: 71205, ratio: 0.5196264307281792\n",
      "i; 38000, mdim: 72099, ratio: 0.5270530797930623\n",
      "i; 39000, mdim: 73090, ratio: 0.5335887262279382\n",
      "i; 40000, mdim: 74613, ratio: 0.5360996073070377\n",
      "i; 41000, mdim: 75637, ratio: 0.5420627470682338\n",
      "i; 42000, mdim: 76430, ratio: 0.549522438832919\n",
      "i; 43000, mdim: 76951, ratio: 0.5587971566321426\n",
      "i; 44000, mdim: 77708, ratio: 0.566222267977557\n",
      "i; 45000, mdim: 78160, ratio: 0.5757420675537359\n",
      "i; 46000, mdim: 78635, ratio: 0.5849812424492911\n",
      "i; 47000, mdim: 79099, ratio: 0.5941920883955549\n",
      "i; 48000, mdim: 79426, ratio: 0.6043361116007353\n",
      "i; 49000, mdim: 79600, ratio: 0.6155778894472361\n",
      "i; 50000, mdim: 79849, ratio: 0.6261819183709251\n",
      "i; 51000, mdim: 80266, ratio: 0.6353873371041288\n",
      "i; 52000, mdim: 80500, ratio: 0.6459627329192547\n",
      "i; 53000, mdim: 80751, ratio: 0.6563386211935456\n",
      "i; 54000, mdim: 81256, ratio: 0.664566308949493\n",
      "i; 55000, mdim: 81808, ratio: 0.6723058869548211\n",
      "i; 56000, mdim: 82387, ratio: 0.6797188876885917\n",
      "i; 57000, mdim: 83084, ratio: 0.6860526695874055\n",
      "i; 58000, mdim: 83758, ratio: 0.6924711669333079\n",
      "i; 59000, mdim: 84348, ratio: 0.6994830938492911\n",
      "i; 60000, mdim: 84809, ratio: 0.7074720843306724\n",
      "i; 61000, mdim: 85365, ratio: 0.7145785743571721\n",
      "i; 62000, mdim: 85722, ratio: 0.723268239191806\n",
      "i; 63000, mdim: 86124, ratio: 0.7315034136825972\n",
      "i; 64000, mdim: 86523, ratio: 0.7396877130936282\n",
      "i; 65000, mdim: 86986, ratio: 0.7472466833743361\n",
      "i; 66000, mdim: 87453, ratio: 0.7546910912147096\n",
      "i; 67000, mdim: 87910, ratio: 0.7621431008986463\n",
      "i; 68000, mdim: 88193, ratio: 0.7710362500425204\n",
      "i; 69000, mdim: 88523, ratio: 0.779458445827638\n",
      "i; 70000, mdim: 88747, ratio: 0.7887590566441682\n",
      "i; 70000, mdim: 88747, ratio: 0.7887590566441682\n",
      "i; 71000, mdim: 88978, ratio: 0.7979500550697926\n",
      "i; 72000, mdim: 89286, ratio: 0.8063974195282575\n",
      "i; 73000, mdim: 89642, ratio: 0.8143504160995961\n",
      "i; 74000, mdim: 90054, ratio: 0.8217291847113953\n",
      "i; 75000, mdim: 90462, ratio: 0.8290774026663129\n",
      "i; 76000, mdim: 90759, ratio: 0.8373825185381064\n",
      "i; 77000, mdim: 91036, ratio: 0.8458192363460609\n",
      "i; 78000, mdim: 91371, ratio: 0.8536625406310536\n",
      "i; 79000, mdim: 91571, ratio: 0.8627185462646471\n",
      "i; 80000, mdim: 91819, ratio: 0.871279364837343\n",
      "i; 81000, mdim: 92086, ratio: 0.8796125361075516\n",
      "i; 82000, mdim: 92467, ratio: 0.8868028593984881\n",
      "i; 83000, mdim: 92849, ratio: 0.8939245441523334\n",
      "i; 84000, mdim: 93120, ratio: 0.9020618556701031\n",
      "i; 85000, mdim: 93356, ratio: 0.9104931659454133\n",
      "i; 86000, mdim: 93586, ratio: 0.91894086722373\n",
      "i; 87000, mdim: 93815, ratio: 0.9273570324574961\n",
      "i; 88000, mdim: 94011, ratio: 0.936060673750944\n",
      "i; 89000, mdim: 94198, ratio: 0.9448183613240196\n",
      "i; 90000, mdim: 94367, ratio: 0.9537232295187936\n",
      "i; 91000, mdim: 94513, ratio: 0.9628305100885592\n",
      "i; 92000, mdim: 94734, ratio: 0.9711402453184707\n",
      "i; 93000, mdim: 95008, ratio: 0.9788649376894577\n",
      "i; 94000, mdim: 95153, ratio: 0.987882673168476\n",
      "i; 95000, mdim: 95406, ratio: 0.9957445024421944\n",
      "[-0.78618622+0.j         -0.28535512-0.01182801j  0.18826199-0.31501581j\n",
      "  0.18826199+0.31501581j  0.28741711+0.j          0.4372049 +0.j\n",
      "  0.56070159+0.j          0.70030885+0.j          0.98784257+0.j\n",
      "  1.        +0.j        ]\n",
      "(81.7532295139455-0j)\n",
      "i; 1000, mdim: 10163, ratio: 0.09839614287119945\n",
      "i; 2000, mdim: 12775, ratio: 0.15655577299412915\n",
      "i; 3000, mdim: 16061, ratio: 0.1867878712408941\n",
      "i; 4000, mdim: 18276, ratio: 0.2188662727073758\n",
      "i; 5000, mdim: 19684, ratio: 0.25401341190814875\n",
      "i; 6000, mdim: 20513, ratio: 0.29249744064739436\n",
      "i; 7000, mdim: 21027, ratio: 0.332905312217625\n",
      "i; 8000, mdim: 21982, ratio: 0.36393412792284596\n",
      "i; 9000, mdim: 22948, ratio: 0.3921910406135611\n",
      "i; 10000, mdim: 23483, ratio: 0.42583996933952223\n",
      "i; 11000, mdim: 24363, ratio: 0.4515043303369864\n",
      "i; 12000, mdim: 25012, ratio: 0.4797697105389413\n",
      "i; 13000, mdim: 25549, ratio: 0.5088261771497906\n",
      "i; 14000, mdim: 26812, ratio: 0.5221542592868865\n",
      "i; 15000, mdim: 27451, ratio: 0.5464281811227277\n",
      "i; 16000, mdim: 28359, ratio: 0.5641947882506435\n",
      "i; 17000, mdim: 28881, ratio: 0.588622277621966\n",
      "i; 18000, mdim: 29539, ratio: 0.6093638918040557\n",
      "i; 19000, mdim: 29880, ratio: 0.6358768406961178\n",
      "i; 20000, mdim: 30136, ratio: 0.6636580833554553\n",
      "i; 21000, mdim: 30374, ratio: 0.6913807861987226\n",
      "i; 22000, mdim: 30819, ratio: 0.7138453551380641\n",
      "i; 23000, mdim: 31698, ratio: 0.7255978295160578\n",
      "i; 24000, mdim: 32153, ratio: 0.7464311261779616\n",
      "i; 25000, mdim: 32462, ratio: 0.7701312303616537\n",
      "i; 26000, mdim: 32984, ratio: 0.7882609750181906\n",
      "i; 27000, mdim: 33538, ratio: 0.8050569503250045\n",
      "i; 28000, mdim: 34118, ratio: 0.8206811653672548\n",
      "i; 29000, mdim: 34400, ratio: 0.8430232558139535\n",
      "i; 30000, mdim: 34579, ratio: 0.8675785881604442\n",
      "i; 31000, mdim: 35036, ratio: 0.8848042013928531\n",
      "i; 32000, mdim: 35512, ratio: 0.9011038522189683\n",
      "i; 33000, mdim: 35868, ratio: 0.9200401472064236\n",
      "i; 34000, mdim: 36087, ratio: 0.9421675395571812\n",
      "i; 35000, mdim: 36344, ratio: 0.963020030816641\n",
      "i; 36000, mdim: 36732, ratio: 0.9800718719372754\n",
      "i; 37000, mdim: 37136, ratio: 0.9963377854373116\n",
      "[-0.76642495+0.j         -0.32493683+0.j          0.17562195-0.30140171j\n",
      "  0.17562195+0.30140171j  0.3035666 +0.j          0.42681728+0.j\n",
      "  0.54344264+0.j          0.66501576+0.j          0.98770284+0.j\n",
      "  1.        +0.j        ]\n",
      "(80.81855246932615-0j)\n",
      "i; 1000, mdim: 8457, ratio: 0.11824524062906468\n",
      "i; 2000, mdim: 10484, ratio: 0.19076688286913393\n",
      "i; 3000, mdim: 12006, ratio: 0.24987506246876562\n",
      "i; 4000, mdim: 13781, ratio: 0.29025469849793195\n",
      "i; 5000, mdim: 14788, ratio: 0.3381119826886665\n",
      "i; 6000, mdim: 15566, ratio: 0.38545547989207246\n",
      "i; 7000, mdim: 16581, ratio: 0.4221699535613051\n",
      "i; 8000, mdim: 17554, ratio: 0.455736584254301\n",
      "i; 9000, mdim: 18086, ratio: 0.4976224704191087\n",
      "i; 10000, mdim: 18656, ratio: 0.5360205831903945\n",
      "i; 11000, mdim: 19060, ratio: 0.577124868835257\n",
      "i; 12000, mdim: 19896, ratio: 0.6031363088057901\n",
      "i; 13000, mdim: 20323, ratio: 0.6396693401564729\n",
      "i; 14000, mdim: 20724, ratio: 0.6755452615325227\n",
      "i; 15000, mdim: 21007, ratio: 0.7140476983862521\n",
      "i; 16000, mdim: 21536, ratio: 0.7429420505200595\n",
      "i; 17000, mdim: 21975, ratio: 0.7736063708759955\n",
      "i; 18000, mdim: 22369, ratio: 0.8046850552103357\n",
      "i; 19000, mdim: 22831, ratio: 0.8322018308440279\n",
      "i; 20000, mdim: 23307, ratio: 0.8581112970352255\n",
      "i; 21000, mdim: 23557, ratio: 0.8914547692830157\n",
      "i; 22000, mdim: 23825, ratio: 0.9233997901364114\n",
      "i; 23000, mdim: 24185, ratio: 0.9510026876162911\n",
      "i; 24000, mdim: 24468, ratio: 0.980872976949485\n",
      "[-0.76943922+0.j          0.17132131-0.29270843j  0.17132131+0.29270843j\n",
      "  0.30558674-0.00995809j  0.30558674+0.00995809j  0.51102002+0.j\n",
      "  0.55460043+0.j          0.74070587+0.j          0.98975615+0.j\n",
      "  1.        +0.j        ]\n",
      "(97.11869373108495-0j)\n",
      "i; 1000, mdim: 2367, ratio: 0.4224757076468103\n",
      "i; 2000, mdim: 4144, ratio: 0.4826254826254826\n",
      "i; 3000, mdim: 6365, ratio: 0.4713275726630008\n",
      "i; 4000, mdim: 7469, ratio: 0.5355469272995046\n",
      "i; 5000, mdim: 8083, ratio: 0.6185822095756526\n",
      "i; 6000, mdim: 8692, ratio: 0.6902899217671422\n",
      "i; 7000, mdim: 9398, ratio: 0.7448393275164928\n",
      "i; 8000, mdim: 9763, ratio: 0.8194202601659326\n",
      "i; 9000, mdim: 10002, ratio: 0.8998200359928015\n",
      "i; 10000, mdim: 10169, ratio: 0.983380863408398\n",
      "[-0.79040879+0.j         -0.33016126+0.j          0.1716153 -0.29534503j\n",
      "  0.1716153 +0.29534503j  0.37330965-0.07125601j  0.37330965+0.07125601j\n",
      "  0.57902271+0.j          0.71631079+0.j          0.98509823+0.j\n",
      "  1.        +0.j        ]\n",
      "(66.60485643983148-0j)\n",
      "i; 1000, mdim: 2734, ratio: 0.365764447695684\n",
      "i; 2000, mdim: 4082, ratio: 0.4899559039686428\n",
      "i; 3000, mdim: 4979, ratio: 0.6025306286402892\n",
      "i; 4000, mdim: 5413, ratio: 0.7389617587289857\n",
      "i; 5000, mdim: 6194, ratio: 0.8072328059412335\n",
      "i; 6000, mdim: 6578, ratio: 0.9121313469139556\n",
      "[-0.75425796+0.j          0.1156309 -0.23968525j  0.12841178-0.26962852j\n",
      "  0.12841178+0.26962852j  0.28437191+0.j          0.37895107+0.j\n",
      "  0.5288197 +0.j          0.68742853+0.j          0.98683717+0.j\n",
      "  1.        +0.j        ]\n",
      "(75.47038142069127-0j)\n",
      "i; 1000, mdim: 1822, ratio: 0.5488474204171241\n",
      "i; 2000, mdim: 2345, ratio: 0.8528784648187633\n",
      "[-0.73889131+0.j         -0.29610719-0.16670191j -0.29610719+0.16670191j\n",
      "  0.25991072-0.18822135j  0.25991072+0.18822135j  0.46163134+0.j\n",
      "  0.51504039+0.j          0.6028416 +0.j          0.97634056+0.j\n",
      "  1.        +0.j        ]\n",
      "(41.76443949198432-0j)\n",
      "i; 1000, mdim: 1326, ratio: 0.7541478129713424\n",
      "[-0.80077898+0.j          0.11680155-0.32020876j  0.11680155+0.32020876j\n",
      "  0.31515235-0.03555395j  0.37761771-0.04603498j  0.37761771+0.04603498j\n",
      "  0.55191795+0.j          0.60779477+0.j          0.98508347+0.j\n",
      "  1.        +0.j        ]\n",
      "(66.53847094146309-0j)\n",
      "[-0.73587585+0.j         -0.32228256+0.j          0.14564883-0.29525277j\n",
      "  0.14564883+0.29525277j  0.35339565-0.01002728j  0.35339565+0.01002728j\n",
      "  0.54925198+0.j          0.55556812+0.j          0.94750946+0.j\n",
      "  1.        +0.j        ]\n",
      "(18.54656051308634-0j)\n",
      "[-0.77369874+0.j         -0.35067989+0.j          0.27888757-0.30798283j\n",
      "  0.27888757+0.30798283j  0.4808567 +0.j          0.50223046+0.j\n",
      "  0.59703222+0.j          0.78355353+0.j          0.99882615+0.j\n",
      "  1.        +0.j        ]\n",
      "(851.4006352320386-0j)\n",
      "[-0.66532595+0.j         -0.006357  -0.28109856j -0.006357  +0.28109856j\n",
      "  0.34054204-0.10941803j  0.34054204+0.10941803j  0.37158703-0.04023689j\n",
      "  0.37158703+0.04023689j  0.47971646+0.j          0.95279185+0.j\n",
      "  1.        +0.j        ]\n",
      "(20.678753612160108-0j)\n"
     ]
    }
   ],
   "source": [
    "seed = 0; \n",
    "policy = policy_dict['madodiv'][seed]\n",
    "mfpt_list = [] \n",
    "w_list = []\n",
    "mesh_list = []\n",
    "\n",
    "for box_size in np.logspace(-1.7, -1, 10):\n",
    "        mesh = construct_reachable_mesh(env, policy, force_iter, delta=box_size)\n",
    "        T = lil_matrix((len(mesh), len(mesh)))\n",
    "\n",
    "        T[0,0] = 1\n",
    "        for box in mesh.values():\n",
    "            for trans_id in box.trans_list:\n",
    "                T[box.id, trans_id] += 1/len(box.trans_list)\n",
    "\n",
    "        w, v = eigs(T.conjugate(),10)\n",
    "        w.sort()\n",
    "        print(w)\n",
    "        print(-1/np.log(w[-2]))\n",
    "        \n",
    "        w_list.append(w)\n",
    "        mfpt_list.append(-1/np.log(w[-2]))\n",
    "        mesh_list.append(mesh)"
   ]
  },
  {
   "cell_type": "code",
   "execution_count": 22,
   "metadata": {},
   "outputs": [
    {
     "data": {
      "text/plain": [
       "<matplotlib.lines.Line2D at 0x7fe05e108400>"
      ]
     },
     "execution_count": 22,
     "metadata": {},
     "output_type": "execute_result"
    },
    {
     "data": {
      "image/png": "[encoded data removed]",
      "text/plain": [
       "<Figure size 432x288 with 1 Axes>"
      ]
     },
     "metadata": {
      "needs_background": "light"
     },
     "output_type": "display_data"
    }
   ],
   "source": [
    "#plt.spy(T, markersize=4, figsize=(15,20))\n",
    "fig, ax = plt.subplots(1)\n",
    "ax.spy(T, markersize=1)"
   ]
  },
  {
   "cell_type": "code",
   "execution_count": 8,
   "metadata": {},
   "outputs": [],
   "source": [
    "mfpt_list.reverse()"
   ]
  },
  {
   "cell_type": "code",
   "execution_count": 82,
   "metadata": {},
   "outputs": [],
   "source": [
    "from multiprocessing import Pool\n",
    "from itertools import repeat\n",
    "\n",
    "\n",
    "n_trials = 2500\n",
    "data = []\n",
    "with Pool(12, maxtasksperchild=1000) as pool:\n",
    "        env_iter = repeat(env, n_trials)\n",
    "        pol_iter = repeat(policy_dict['madodiv'][0])\n",
    "        for i, res  in enumerate(pool.imap(do_monte_carlo_rollout, zip(env_iter, pol_iter))):\n",
    "            steps = res\n",
    "            data.append(steps)\n",
    " "
   ]
  },
  {
   "cell_type": "code",
   "execution_count": 83,
   "metadata": {},
   "outputs": [
    {
     "name": "stdout",
     "output_type": "stream",
     "text": [
      "90.0036\n",
      "88.81163655197443\n",
      "222\n"
     ]
    },
    {
     "data": {
      "image/png": "[encoded data removed]",
      "text/plain": [
       "<Figure size 640x480 with 1 Axes>"
      ]
     },
     "metadata": {},
     "output_type": "display_data"
    }
   ],
   "source": [
    "data = np.array(data)\n",
    "print(data.mean())\n",
    "print(data.std())\n",
    "plt.hist(data)\n",
    "print(data[int(data.shape[0]/2)])    "
   ]
  },
  {
   "cell_type": "code",
   "execution_count": 87,
   "metadata": {},
   "outputs": [
    {
     "name": "stderr",
     "output_type": "stream",
     "text": [
      "/home/sgillen/anaconda3/envs/baselines/lib/python3.6/site-packages/numpy/core/_asarray.py:85: ComplexWarning: Casting complex values to real discards the imaginary part\n",
      "  return array(a, dtype, copy=False, order=order)\n"
     ]
    },
    {
     "data": {
      "image/png": "[encoded data removed]",
      "text/plain": [
       "<Figure size 640x480 with 1 Axes>"
      ]
     },
     "metadata": {},
     "output_type": "display_data"
    }
   ],
   "source": [
    "import matplotlib\n",
    "matplotlib.style.use('default')\n",
    "\n",
    "font = {'family' : 'normal',\n",
    "        'weight' : 'bold',\n",
    "        'size'   : 16}\n",
    "\n",
    "matplotlib.rc('font', **font)\n",
    "\n",
    "matplotlib.rc('font', **font)\n",
    "p_boxes = list(box_sizes)\n",
    "p_boxes.reverse()\n",
    "\n",
    "fig, ax = plt.subplots(1)\n",
    "\n",
    "ax.plot(np.log(p_boxes), mfpt_list, 'o-', color='k')\n",
    "plt.xlabel('Log(Box Size)')\n",
    "plt.ylabel('Estimated MFPT')\n",
    "ax.invert_xaxis()\n",
    "plt.ylabel('Estimated MFPT')\n",
    "#plt.hlines(90, 0, 10, linestyle='dashed')\n",
    "#ax.hlines(80 + 80, -2.2, -4, linestyle='dashed', color='blue')\n",
    "ax.hlines(data.mean(), -2, -4, linestyle='dashed', color='blue')\n",
    "#ax.hlines(80 +- 80, -2.2, -4, linestyle='dashed', color='blue')\n",
    "\n",
    "#ax.hlines(0, -2, -5, linestyle='solid', color='blue')\n",
    "#ax.hlines(160, -2, -5, linestyle='solid', color='blue')\n",
    "\n",
    "dummy_x = np.linspace(-1, -6, 100)\n",
    "\n",
    "plt.fill_between(dummy_x, data.mean() - data.std() , data.mean() + data.std())\n",
    "\n",
    "plt.title(\"MFPT Convergence, Standard Noise Policy\")\n",
    "plt.legend(['MFPT Estimate', 'Monte Carlo'])\n",
    "plt.xlim(-2,-4)\n",
    "\n",
    "plt.grid()\n",
    "\n",
    "#plt.ylim(0,150)\n",
    "\n"
   ]
  },
  {
   "cell_type": "code",
   "execution_count": 60,
   "metadata": {},
   "outputs": [
    {
     "data": {
      "text/plain": [
       "array([0.01995262, 0.0238659 , 0.02854668, 0.03414549, 0.04084239,\n",
       "       0.04885274, 0.05843414, 0.06989473, 0.08360307, 0.1       ])"
      ]
     },
     "execution_count": 60,
     "metadata": {},
     "output_type": "execute_result"
    }
   ],
   "source": []
  },
  {
   "cell_type": "code",
   "execution_count": 19,
   "metadata": {},
   "outputs": [
    {
     "data": {
      "image/png": "[encoded data removed]",
      "text/plain": [
       "<Figure size 432x288 with 1 Axes>"
      ]
     },
     "metadata": {
      "needs_background": "light"
     },
     "output_type": "display_data"
    }
   ],
   "source": [
    "box_sizes = np.logspace(-1.7, -1, 10)\n",
    "mesh_sizes = [len(m) for m in mesh_list]\n",
    "plt.plot(np.log(box_sizes), np.log(mesh_sizes), 'x')\n",
    "\n",
    "import scipy.optimize as opt\n",
    "\n",
    "# Fit a curve to the log log line\n",
    "def f(x, m, b):\n",
    "    return m * x + b\n",
    "\n",
    "xdata = np.log(box_sizes)\n",
    "ydata = np.log(mesh_sizes)\n",
    "popt, pcov = opt.curve_fit(f, xdata, ydata)\n",
    "\n",
    "plt.plot(xdata, popt[0]*xdata + popt[1])\n",
    "plt.legend(['Data',f'Fit: {-popt[0]:.2f}'])\n",
    "plt.title('Poncaire Mesh Plot')\n",
    "plt.xlabel('Log(Box Sizes)')\n",
    "plt.ylabel('Log(Mesh Sizes)')\n",
    "plt.grid()"
   ]
  },
  {
   "cell_type": "code",
   "execution_count": 20,
   "metadata": {},
   "outputs": [],
   "source": [
    "obs,acts,rews,_ = do_long_rollout(env, policy,ep_length=10000)\n",
    "ldim, udim, traj_m_sizes, d_vals =  mesh_dim(obs)"
   ]
  },
  {
   "cell_type": "code",
   "execution_count": 21,
   "metadata": {},
   "outputs": [
    {
     "data": {
      "image/png": "[encoded data removed]",
      "text/plain": [
       "<Figure size 432x288 with 1 Axes>"
      ]
     },
     "metadata": {
      "needs_background": "light"
     },
     "output_type": "display_data"
    }
   ],
   "source": [
    "plt.plot(np.log(d_vals), np.log(traj_m_sizes), 'x')\n",
    "plt.plot(np.log(d_vals), np.log(d_vals)*-ldim + 4)\n",
    "plt.plot(np.log(d_vals), np.log(d_vals)*-udim + 4)\n",
    "\n",
    "plt.legend([\"Mesh Sizes\", f\"Lower trajectory-mesh dim {ldim:.2f}\", f\"Upper trajectory-mesh dim {udim:.2f}\"])\n",
    "plt.title('Trajectory Mesh Plot')\n",
    "plt.xlabel('Log(Box Sizes)')\n",
    "plt.ylabel('Log(Mesh Sizes)')\n",
    "plt.grid()"
   ]
  },
  {
   "cell_type": "code",
   "execution_count": 63,
   "metadata": {},
   "outputs": [
    {
     "data": {
      "text/plain": [
       "[95516, 37187, 24816, 10250, 6679, 2736, 1526, 713, 436, 157]"
      ]
     },
     "execution_count": 63,
     "metadata": {},
     "output_type": "execute_result"
    }
   ],
   "source": [
    "mesh_sizes"
   ]
  },
  {
   "cell_type": "code",
   "execution_count": 62,
   "metadata": {},
   "outputs": [
    {
     "data": {
      "text/plain": [
       "array([0.01995262, 0.0238659 , 0.02854668, 0.03414549, 0.04084239,\n",
       "       0.04885274, 0.05843414, 0.06989473, 0.08360307, 0.1       ])"
      ]
     },
     "execution_count": 62,
     "metadata": {},
     "output_type": "execute_result"
    }
   ],
   "source": [
    "box_sizes"
   ]
  },
  {
   "cell_type": "code",
   "execution_count": 64,
   "metadata": {},
   "outputs": [
    {
     "data": {
      "text/plain": [
       "[(20.678753612160108-0j),\n",
       " (851.4006352320386-0j),\n",
       " (18.54656051308634-0j),\n",
       " (66.53847094146309-0j),\n",
       " (41.76443949198432-0j),\n",
       " (75.47038142069127-0j),\n",
       " (66.60485643983148-0j),\n",
       " (97.11869373108495-0j),\n",
       " (80.81855246932615-0j),\n",
       " (81.7532295139455-0j)]"
      ]
     },
     "execution_count": 64,
     "metadata": {},
     "output_type": "execute_result"
    }
   ],
   "source": [
    "mfpt_list"
   ]
  },
  {
   "cell_type": "code",
   "execution_count": null,
   "metadata": {},
   "outputs": [],
   "source": []
  }
 ],
 "metadata": {
  "kernelspec": {
   "display_name": "Mujoco 1.5",
   "language": "python",
   "name": "python3"
  },
  "language_info": {
   "codemirror_mode": {
    "name": "ipython",
    "version": 3
   },
   "file_extension": ".py",
   "mimetype": "text/x-python",
   "name": "python",
   "nbconvert_exporter": "python",
   "pygments_lexer": "ipython3",
   "version": "3.6.10"
  }
 },
 "nbformat": 4,
 "nbformat_minor": 4
}
